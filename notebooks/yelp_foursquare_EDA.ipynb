{
 "cells": [
  {
   "cell_type": "code",
   "execution_count": 144,
   "metadata": {},
   "outputs": [
    {
     "data": {
      "text/html": [
       "<div>\n",
       "<style scoped>\n",
       "    .dataframe tbody tr th:only-of-type {\n",
       "        vertical-align: middle;\n",
       "    }\n",
       "\n",
       "    .dataframe tbody tr th {\n",
       "        vertical-align: top;\n",
       "    }\n",
       "\n",
       "    .dataframe thead th {\n",
       "        text-align: right;\n",
       "    }\n",
       "</style>\n",
       "<table border=\"1\" class=\"dataframe\">\n",
       "  <thead>\n",
       "    <tr style=\"text-align: right;\">\n",
       "      <th></th>\n",
       "      <th>name</th>\n",
       "      <th>latitude</th>\n",
       "      <th>longitude</th>\n",
       "      <th>free bikes</th>\n",
       "    </tr>\n",
       "  </thead>\n",
       "  <tbody>\n",
       "    <tr>\n",
       "      <th>0</th>\n",
       "      <td>Lille Schous plass</td>\n",
       "      <td>59.920259</td>\n",
       "      <td>10.760629</td>\n",
       "      <td>6</td>\n",
       "    </tr>\n",
       "    <tr>\n",
       "      <th>1</th>\n",
       "      <td>Sjølyst</td>\n",
       "      <td>59.921673</td>\n",
       "      <td>10.676660</td>\n",
       "      <td>15</td>\n",
       "    </tr>\n",
       "    <tr>\n",
       "      <th>2</th>\n",
       "      <td>Tøyenparken</td>\n",
       "      <td>59.915667</td>\n",
       "      <td>10.777567</td>\n",
       "      <td>4</td>\n",
       "    </tr>\n",
       "    <tr>\n",
       "      <th>3</th>\n",
       "      <td>Lindern</td>\n",
       "      <td>59.935888</td>\n",
       "      <td>10.735006</td>\n",
       "      <td>0</td>\n",
       "    </tr>\n",
       "    <tr>\n",
       "      <th>4</th>\n",
       "      <td>Uelands gate</td>\n",
       "      <td>59.929545</td>\n",
       "      <td>10.748986</td>\n",
       "      <td>10</td>\n",
       "    </tr>\n",
       "  </tbody>\n",
       "</table>\n",
       "</div>"
      ],
      "text/plain": [
       "                 name   latitude  longitude  free bikes\n",
       "0  Lille Schous plass  59.920259  10.760629           6\n",
       "1             Sjølyst  59.921673  10.676660          15\n",
       "2         Tøyenparken  59.915667  10.777567           4\n",
       "3             Lindern  59.935888  10.735006           0\n",
       "4        Uelands gate  59.929545  10.748986          10"
      ]
     },
     "execution_count": 144,
     "metadata": {},
     "output_type": "execute_result"
    }
   ],
   "source": [
    "# imports\n",
    "import requests\n",
    "import os\n",
    "import pandas as pd\n",
    "import numpy as np\n",
    "\n",
    "#read in the data from part 1 and store it as a Data Frame\n",
    "bike_stations_df = pd.read_csv('/Users/skylerwilson/Desktop/Lighthouse_Labs/Projects/statistical_modeling/data/stations_data.csv')\n",
    "bike_stations_df.head()"
   ]
  },
  {
   "cell_type": "markdown",
   "metadata": {},
   "source": [
    "# Foursquare"
   ]
  },
  {
   "cell_type": "markdown",
   "metadata": {},
   "source": [
    "Send a request to Foursquare with a small radius (1000m) for all the bike stations in your city of choice. "
   ]
  },
  {
   "cell_type": "code",
   "execution_count": 180,
   "metadata": {},
   "outputs": [],
   "source": [
    "def get_poi(latitude, longitude):\n",
    "    api_key = os.environ[\"FOURSQUARE_API_KEY\"]\n",
    "    base_url = \"https://api.foursquare.com/v3/places/search?\"\n",
    "    radius = 1000\n",
    "    category = 13065  # Restaurant category\n",
    "    #set the fields to be returned by the request\n",
    "    fieldnames = [\n",
    "        'categories',\n",
    "        'name',\n",
    "        'location',\n",
    "        'geocodes',\n",
    "        'tel',\n",
    "        'website',\n",
    "        'hours',\n",
    "        'rating',\n",
    "        'popularity',\n",
    "        'price',\n",
    "        'store_id'\n",
    "    ]\n",
    "    headers = {\n",
    "        \"accept\": \"application/json\",\n",
    "        \"Authorization\": api_key\n",
    "    }\n",
    "    \n",
    "    # Ensure fields are joined correctly\n",
    "    fields = '%2C'.join(fieldnames)\n",
    "    \n",
    "    # Construct the API request URL\n",
    "    url = f\"{base_url}ll={latitude}%2C{longitude}&radius={radius}&categories={category}&fields={fields}\"\n",
    "\n",
    "    # a session object allows certain parameters and settings to persist\n",
    "    # across multiple requests made with that session\n",
    "    with requests.Session() as session:\n",
    "        try:\n",
    "            # Send the request and handle errors\n",
    "            response = session.get(url, headers=headers)\n",
    "            response.raise_for_status()\n",
    "            \n",
    "            # Parse the JSON response\n",
    "            data = response.json()\n",
    "            return data\n",
    "        except requests.exceptions.RequestException as e:\n",
    "            print(f\"Request Error: {e}\")\n",
    "        except ValueError as e:\n",
    "            print(f\"Error parsing response JSON: {e}\")\n",
    "    return None\n",
    "\n",
    "\n",
    "def get_poi_data(data_frame):\n",
    "    locations = data_frame[['latitude', 'longitude']]\n",
    "    \n",
    "    # Apply get_poi function to each row in the DataFrame\n",
    "    pois_list = locations.apply(lambda row: get_poi(row['latitude'], row['longitude']), axis=1)\n",
    "    \n",
    "    # Convert the resulting Series to a list\n",
    "    return pois_list.to_list()"
   ]
  },
  {
   "cell_type": "code",
   "execution_count": 181,
   "metadata": {},
   "outputs": [],
   "source": [
    "#return the json data in list form\n",
    "poi_data = get_poi_data(bike_stations_df)"
   ]
  },
  {
   "cell_type": "markdown",
   "metadata": {},
   "source": [
    "Parse through the response to get the POI (such as restaurants, bars, etc) details you want (ratings, name, location, etc)"
   ]
  },
  {
   "cell_type": "code",
   "execution_count": 196,
   "metadata": {},
   "outputs": [
    {
     "data": {
      "text/plain": [
       "dict_keys(['categories', 'geocodes', 'hours', 'location', 'name', 'popularity', 'price', 'rating', 'tel', 'website'])"
      ]
     },
     "execution_count": 196,
     "metadata": {},
     "output_type": "execute_result"
    }
   ],
   "source": [
    "#generate the keys from the json data\n",
    "poi_data[0]['results'][0].keys()\n"
   ]
  },
  {
   "cell_type": "markdown",
   "metadata": {},
   "source": [
    "Put your parsed results into a DataFrame"
   ]
  },
  {
   "cell_type": "code",
   "execution_count": 197,
   "metadata": {},
   "outputs": [
    {
     "ename": "KeyError",
     "evalue": "'geocodes'",
     "output_type": "error",
     "traceback": [
      "\u001b[0;31m---------------------------------------------------------------------------\u001b[0m",
      "\u001b[0;31mKeyError\u001b[0m                                  Traceback (most recent call last)",
      "Cell \u001b[0;32mIn[197], line 20\u001b[0m\n\u001b[1;32m     18\u001b[0m data_list[\u001b[39m'\u001b[39m\u001b[39mname\u001b[39m\u001b[39m'\u001b[39m]\u001b[39m.\u001b[39mappend(result\u001b[39m.\u001b[39mget(\u001b[39m'\u001b[39m\u001b[39mname\u001b[39m\u001b[39m'\u001b[39m, \u001b[39mNone\u001b[39;00m))\n\u001b[1;32m     19\u001b[0m data_list[\u001b[39m'\u001b[39m\u001b[39mlocation\u001b[39m\u001b[39m'\u001b[39m]\u001b[39m.\u001b[39mappend(result\u001b[39m.\u001b[39mget(\u001b[39m'\u001b[39m\u001b[39mlocation\u001b[39m\u001b[39m'\u001b[39m, \u001b[39mNone\u001b[39;00m))\n\u001b[0;32m---> 20\u001b[0m data_list[\u001b[39m'\u001b[39m\u001b[39mlatitude\u001b[39m\u001b[39m'\u001b[39m]\u001b[39m.\u001b[39mappend(result[\u001b[39m'\u001b[39;49m\u001b[39mgeocodes\u001b[39;49m\u001b[39m'\u001b[39;49m][\u001b[39m'\u001b[39m\u001b[39mmain\u001b[39m\u001b[39m'\u001b[39m]\u001b[39m.\u001b[39mget(\u001b[39m'\u001b[39m\u001b[39mlatitude\u001b[39m\u001b[39m'\u001b[39m, \u001b[39mNone\u001b[39;00m))\n\u001b[1;32m     21\u001b[0m data_list[\u001b[39m'\u001b[39m\u001b[39mlongitude\u001b[39m\u001b[39m'\u001b[39m]\u001b[39m.\u001b[39mappend(result[\u001b[39m'\u001b[39m\u001b[39mgeocodes\u001b[39m\u001b[39m'\u001b[39m][\u001b[39m'\u001b[39m\u001b[39mmain\u001b[39m\u001b[39m'\u001b[39m]\u001b[39m.\u001b[39mget(\u001b[39m'\u001b[39m\u001b[39mlongitude\u001b[39m\u001b[39m'\u001b[39m, \u001b[39mNone\u001b[39;00m))\n\u001b[1;32m     22\u001b[0m data_list[\u001b[39m'\u001b[39m\u001b[39mtel\u001b[39m\u001b[39m'\u001b[39m]\u001b[39m.\u001b[39mappend(result\u001b[39m.\u001b[39mget(\u001b[39m'\u001b[39m\u001b[39mtel\u001b[39m\u001b[39m'\u001b[39m, \u001b[39mNone\u001b[39;00m))\n",
      "\u001b[0;31mKeyError\u001b[0m: 'geocodes'"
     ]
    }
   ],
   "source": [
    "#create the database\n",
    "data_list = {\n",
    "    'id': [],\n",
    "    'name': [],\n",
    "    'description': [],\n",
    "    'location': [],\n",
    "    'latitude': [],\n",
    "    'longitude': [],\n",
    "    'tel': [],\n",
    "    'website': [],\n",
    "    'hours': [],\n",
    "    'rating': [],\n",
    "    'store_id': []\n",
    "}\n",
    "\n",
    "for result in poi_data:\n",
    "    data_list['id'].append(result.get('id', None))\n",
    "    data_list['name'].append(result.get('name', None))\n",
    "    data_list['location'].append(result.get('location', None))\n",
    "    data_list['latitude'].append(result['geocodes']['main'].get('latitude', None))\n",
    "    data_list['longitude'].append(result['geocodes']['main'].get('longitude', None))\n",
    "    data_list['tel'].append(result.get('tel', None))\n",
    "    data_list['website'].append(result.get('website', None))\n",
    "    data_list['rating'].append(result.get('rating', None))\n",
    "    data_list['store_id'].append(result.get('store_id', None))\n",
    "\n",
    "data_list"
   ]
  },
  {
   "cell_type": "markdown",
   "metadata": {},
   "source": [
    "# Yelp"
   ]
  },
  {
   "cell_type": "markdown",
   "metadata": {},
   "source": [
    "Send a request to Yelp with a small radius (1000m) for all the bike stations in your city of choice. "
   ]
  },
  {
   "cell_type": "code",
   "execution_count": 115,
   "metadata": {},
   "outputs": [],
   "source": [
    "def yelp_poi(longitude, latitude):\n",
    "    base_url = \"https://api.yelp.com/v3/businesses/search?\"\n",
    "    radius = 1000\n",
    "    category = 'restaurant'\n",
    "    url = f\"{base_url}latitude={latitude}&longitude={longitude}&radius={radius}&categories={category}\"\n",
    "\n",
    "    headers = {\"accept\": \"application/json\"}\n",
    "\n",
    "    # a session object allows certain parameters and settings to persist\n",
    "    # across multiple requests made with that session\n",
    "    with requests.Session() as session:\n",
    "        #ensure the request is valid\n",
    "        try:\n",
    "            response = session.get(url, headers=headers)\n",
    "            response.raise_for_status()\n",
    "            data = response.json()\n",
    "            return data\n",
    "        except requests.exceptions.RequestException as e:\n",
    "            print(f\"Request Error: {e}\")\n",
    "            return None\n",
    "        except ValueError as e:\n",
    "            print(f\"Error parsing response JSON: {e}\")\n",
    "            return None\n",
    "\n",
    "def yelp_poi_data(data_frame):\n",
    "    locations = data_frame[['latitude', 'longitude']]\n",
    "    num_poi = locations.apply(lambda row: get_poi(row['latitude'], row['longitude']), axis=1)\n",
    "    return num_poi.to_list()\n",
    "\n"
   ]
  },
  {
   "cell_type": "markdown",
   "metadata": {},
   "source": [
    "Parse through the response to get the POI (such as restaurants, bars, etc) details you want (ratings, name, location, etc)"
   ]
  },
  {
   "cell_type": "code",
   "execution_count": 116,
   "metadata": {},
   "outputs": [],
   "source": [
    "poi_data_yelp = yelp_poi_data(bike_stations_df)"
   ]
  },
  {
   "cell_type": "code",
   "execution_count": 127,
   "metadata": {},
   "outputs": [
    {
     "data": {
      "text/plain": [
       "'57f53ed7498e23279caaed8e'"
      ]
     },
     "execution_count": 127,
     "metadata": {},
     "output_type": "execute_result"
    }
   ],
   "source": [
    "business_id = poi_data_yelp[0]['results'][0].get('fsq_id')\n",
    "business_id"
   ]
  },
  {
   "cell_type": "markdown",
   "metadata": {},
   "source": [
    "Put your parsed results into a DataFrame"
   ]
  },
  {
   "cell_type": "code",
   "execution_count": null,
   "metadata": {},
   "outputs": [],
   "source": [
    "#insert data frame"
   ]
  },
  {
   "cell_type": "markdown",
   "metadata": {},
   "source": [
    "# Comparing Results"
   ]
  },
  {
   "cell_type": "markdown",
   "metadata": {},
   "source": [
    "Which API provided you with more complete data? Provide an explanation. "
   ]
  },
  {
   "cell_type": "markdown",
   "metadata": {},
   "source": []
  },
  {
   "cell_type": "markdown",
   "metadata": {},
   "source": [
    "Get the top 10 restaurants according to their rating"
   ]
  },
  {
   "cell_type": "code",
   "execution_count": null,
   "metadata": {},
   "outputs": [],
   "source": []
  }
 ],
 "metadata": {
  "kernelspec": {
   "display_name": "Python 3",
   "language": "python",
   "name": "python3"
  },
  "language_info": {
   "codemirror_mode": {
    "name": "ipython",
    "version": 3
   },
   "file_extension": ".py",
   "mimetype": "text/x-python",
   "name": "python",
   "nbconvert_exporter": "python",
   "pygments_lexer": "ipython3",
   "version": "3.10.10"
  }
 },
 "nbformat": 4,
 "nbformat_minor": 4
}
