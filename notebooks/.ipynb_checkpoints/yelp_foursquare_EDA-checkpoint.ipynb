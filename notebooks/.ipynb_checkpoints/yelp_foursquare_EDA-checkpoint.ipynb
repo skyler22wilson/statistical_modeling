{
 "cells": [
  {
   "cell_type": "code",
   "execution_count": null,
   "metadata": {},
   "outputs": [],
   "source": [
    "# imports\n",
    "import requests\n",
    "import os\n",
    "import pandas as pd\n",
    "import numpy as np\n",
    "\n",
    "#read in the data from part 1 and store it as a Data Frame\n",
    "bike_stations_df = pd.read_csv('/Users/skylerwilson/Desktop/Lighthouse_Labs/Projects/statistical_modeling/data/stations_data.csv')\n",
    "bike_stations_df.head()"
   ]
  },
  {
   "cell_type": "code",
   "execution_count": null,
   "metadata": {},
   "outputs": [],
   "source": [
    "print(os.environ[\"FOURSQUARE_API_KEY\"])"
   ]
  },
  {
   "cell_type": "markdown",
   "metadata": {},
   "source": [
    "# Foursquare"
   ]
  },
  {
   "cell_type": "markdown",
   "metadata": {},
   "source": [
    "Send a request to Foursquare with a small radius (1000m) for all the bike stations in your city of choice. "
   ]
  },
  {
   "cell_type": "code",
   "execution_count": 6,
   "metadata": {},
   "outputs": [],
   "source": [
    "def get_poi(latitude, longitude):\n",
    "    #\"fsq3LGAVIJ8SLXc5OyrhhPUbAuL/pYlxRfwNpdNK1PaWI/A=\"\n",
    "    api_key = os.environ[\"FOURSQUARE_API_KEY\"]\n",
    "    base_url = \"https://api.foursquare.com/v3/places/search?\"\n",
    "    radius = 1000\n",
    "    category = 13065  # Restaurant category\n",
    "    #set the fields to be returned by the request\n",
    "    fieldnames = [\n",
    "        'categories',\n",
    "        'name',\n",
    "        'location',\n",
    "        'geocodes',\n",
    "        'tel',\n",
    "        'website',\n",
    "        'hours',\n",
    "        'rating',\n",
    "        'popularity',\n",
    "        'price',\n",
    "        'store_id'\n",
    "    ]\n",
    "    headers = {\n",
    "        \"accept\": \"application/json\",\n",
    "        \"Authorization\": api_key\n",
    "    }\n",
    "    \n",
    "    # Ensure fields are joined correctly\n",
    "    fields = '%2C'.join(fieldnames)\n",
    "    \n",
    "    # Construct the API request URL\n",
    "    url = f\"{base_url}ll={latitude}%2C{longitude}&radius={radius}&categories={category}&fields={fields}\"\n",
    "\n",
    "    # a session object allows certain parameters and settings to persist\n",
    "    # across multiple requests made with that session\n",
    "    with requests.Session() as session:\n",
    "        try:\n",
    "            # Send the request and handle errors\n",
    "            response = session.get(url, headers=headers)\n",
    "            response.raise_for_status()\n",
    "            \n",
    "            # Parse the JSON response\n",
    "            data = response.json()\n",
    "            return data\n",
    "        except requests.exceptions.RequestException as e:\n",
    "            print(f\"Request Error: {e}\")\n",
    "        except ValueError as e:\n",
    "            print(f\"Error parsing response JSON: {e}\")\n",
    "    return None\n",
    "\n",
    "\n",
    "def get_poi_data(data_frame):\n",
    "    locations = data_frame[['latitude', 'longitude']]\n",
    "    \n",
    "    # Apply get_poi function to each row in the DataFrame\n",
    "    pois_list = locations.apply(lambda row: get_poi(row['latitude'], row['longitude']), axis=1)\n",
    "    \n",
    "    # Convert the resulting Series to a list\n",
    "    return pois_list.to_list()"
   ]
  },
  {
   "cell_type": "code",
   "execution_count": 7,
   "metadata": {},
   "outputs": [
    {
     "ename": "KeyError",
     "evalue": "'FOURSQUARE_API_KEY'",
     "output_type": "error",
     "traceback": [
      "\u001b[0;31m---------------------------------------------------------------------------\u001b[0m",
      "\u001b[0;31mKeyError\u001b[0m                                  Traceback (most recent call last)",
      "Cell \u001b[0;32mIn[7], line 2\u001b[0m\n\u001b[1;32m      1\u001b[0m \u001b[39m#return the json data in list form\u001b[39;00m\n\u001b[0;32m----> 2\u001b[0m poi_data \u001b[39m=\u001b[39m get_poi_data(bike_stations_df)\n",
      "Cell \u001b[0;32mIn[6], line 54\u001b[0m, in \u001b[0;36mget_poi_data\u001b[0;34m(data_frame)\u001b[0m\n\u001b[1;32m     51\u001b[0m locations \u001b[39m=\u001b[39m data_frame[[\u001b[39m'\u001b[39m\u001b[39mlatitude\u001b[39m\u001b[39m'\u001b[39m, \u001b[39m'\u001b[39m\u001b[39mlongitude\u001b[39m\u001b[39m'\u001b[39m]]\n\u001b[1;32m     53\u001b[0m \u001b[39m# Apply get_poi function to each row in the DataFrame\u001b[39;00m\n\u001b[0;32m---> 54\u001b[0m pois_list \u001b[39m=\u001b[39m locations\u001b[39m.\u001b[39;49mapply(\u001b[39mlambda\u001b[39;49;00m row: get_poi(row[\u001b[39m'\u001b[39;49m\u001b[39mlatitude\u001b[39;49m\u001b[39m'\u001b[39;49m], row[\u001b[39m'\u001b[39;49m\u001b[39mlongitude\u001b[39;49m\u001b[39m'\u001b[39;49m]), axis\u001b[39m=\u001b[39;49m\u001b[39m1\u001b[39;49m)\n\u001b[1;32m     56\u001b[0m \u001b[39m# Convert the resulting Series to a list\u001b[39;00m\n\u001b[1;32m     57\u001b[0m \u001b[39mreturn\u001b[39;00m pois_list\u001b[39m.\u001b[39mto_list()\n",
      "File \u001b[0;32m/opt/homebrew/Caskroom/miniforge/base/lib/python3.10/site-packages/pandas/core/frame.py:9423\u001b[0m, in \u001b[0;36mDataFrame.apply\u001b[0;34m(self, func, axis, raw, result_type, args, **kwargs)\u001b[0m\n\u001b[1;32m   9412\u001b[0m \u001b[39mfrom\u001b[39;00m \u001b[39mpandas\u001b[39;00m\u001b[39m.\u001b[39;00m\u001b[39mcore\u001b[39;00m\u001b[39m.\u001b[39;00m\u001b[39mapply\u001b[39;00m \u001b[39mimport\u001b[39;00m frame_apply\n\u001b[1;32m   9414\u001b[0m op \u001b[39m=\u001b[39m frame_apply(\n\u001b[1;32m   9415\u001b[0m     \u001b[39mself\u001b[39m,\n\u001b[1;32m   9416\u001b[0m     func\u001b[39m=\u001b[39mfunc,\n\u001b[0;32m   (...)\u001b[0m\n\u001b[1;32m   9421\u001b[0m     kwargs\u001b[39m=\u001b[39mkwargs,\n\u001b[1;32m   9422\u001b[0m )\n\u001b[0;32m-> 9423\u001b[0m \u001b[39mreturn\u001b[39;00m op\u001b[39m.\u001b[39;49mapply()\u001b[39m.\u001b[39m__finalize__(\u001b[39mself\u001b[39m, method\u001b[39m=\u001b[39m\u001b[39m\"\u001b[39m\u001b[39mapply\u001b[39m\u001b[39m\"\u001b[39m)\n",
      "File \u001b[0;32m/opt/homebrew/Caskroom/miniforge/base/lib/python3.10/site-packages/pandas/core/apply.py:678\u001b[0m, in \u001b[0;36mFrameApply.apply\u001b[0;34m(self)\u001b[0m\n\u001b[1;32m    675\u001b[0m \u001b[39melif\u001b[39;00m \u001b[39mself\u001b[39m\u001b[39m.\u001b[39mraw:\n\u001b[1;32m    676\u001b[0m     \u001b[39mreturn\u001b[39;00m \u001b[39mself\u001b[39m\u001b[39m.\u001b[39mapply_raw()\n\u001b[0;32m--> 678\u001b[0m \u001b[39mreturn\u001b[39;00m \u001b[39mself\u001b[39;49m\u001b[39m.\u001b[39;49mapply_standard()\n",
      "File \u001b[0;32m/opt/homebrew/Caskroom/miniforge/base/lib/python3.10/site-packages/pandas/core/apply.py:798\u001b[0m, in \u001b[0;36mFrameApply.apply_standard\u001b[0;34m(self)\u001b[0m\n\u001b[1;32m    797\u001b[0m \u001b[39mdef\u001b[39;00m \u001b[39mapply_standard\u001b[39m(\u001b[39mself\u001b[39m):\n\u001b[0;32m--> 798\u001b[0m     results, res_index \u001b[39m=\u001b[39m \u001b[39mself\u001b[39;49m\u001b[39m.\u001b[39;49mapply_series_generator()\n\u001b[1;32m    800\u001b[0m     \u001b[39m# wrap results\u001b[39;00m\n\u001b[1;32m    801\u001b[0m     \u001b[39mreturn\u001b[39;00m \u001b[39mself\u001b[39m\u001b[39m.\u001b[39mwrap_results(results, res_index)\n",
      "File \u001b[0;32m/opt/homebrew/Caskroom/miniforge/base/lib/python3.10/site-packages/pandas/core/apply.py:814\u001b[0m, in \u001b[0;36mFrameApply.apply_series_generator\u001b[0;34m(self)\u001b[0m\n\u001b[1;32m    811\u001b[0m \u001b[39mwith\u001b[39;00m option_context(\u001b[39m\"\u001b[39m\u001b[39mmode.chained_assignment\u001b[39m\u001b[39m\"\u001b[39m, \u001b[39mNone\u001b[39;00m):\n\u001b[1;32m    812\u001b[0m     \u001b[39mfor\u001b[39;00m i, v \u001b[39min\u001b[39;00m \u001b[39menumerate\u001b[39m(series_gen):\n\u001b[1;32m    813\u001b[0m         \u001b[39m# ignore SettingWithCopy here in case the user mutates\u001b[39;00m\n\u001b[0;32m--> 814\u001b[0m         results[i] \u001b[39m=\u001b[39m \u001b[39mself\u001b[39;49m\u001b[39m.\u001b[39;49mf(v)\n\u001b[1;32m    815\u001b[0m         \u001b[39mif\u001b[39;00m \u001b[39misinstance\u001b[39m(results[i], ABCSeries):\n\u001b[1;32m    816\u001b[0m             \u001b[39m# If we have a view on v, we need to make a copy because\u001b[39;00m\n\u001b[1;32m    817\u001b[0m             \u001b[39m#  series_generator will swap out the underlying data\u001b[39;00m\n\u001b[1;32m    818\u001b[0m             results[i] \u001b[39m=\u001b[39m results[i]\u001b[39m.\u001b[39mcopy(deep\u001b[39m=\u001b[39m\u001b[39mFalse\u001b[39;00m)\n",
      "Cell \u001b[0;32mIn[6], line 54\u001b[0m, in \u001b[0;36mget_poi_data.<locals>.<lambda>\u001b[0;34m(row)\u001b[0m\n\u001b[1;32m     51\u001b[0m locations \u001b[39m=\u001b[39m data_frame[[\u001b[39m'\u001b[39m\u001b[39mlatitude\u001b[39m\u001b[39m'\u001b[39m, \u001b[39m'\u001b[39m\u001b[39mlongitude\u001b[39m\u001b[39m'\u001b[39m]]\n\u001b[1;32m     53\u001b[0m \u001b[39m# Apply get_poi function to each row in the DataFrame\u001b[39;00m\n\u001b[0;32m---> 54\u001b[0m pois_list \u001b[39m=\u001b[39m locations\u001b[39m.\u001b[39mapply(\u001b[39mlambda\u001b[39;00m row: get_poi(row[\u001b[39m'\u001b[39;49m\u001b[39mlatitude\u001b[39;49m\u001b[39m'\u001b[39;49m], row[\u001b[39m'\u001b[39;49m\u001b[39mlongitude\u001b[39;49m\u001b[39m'\u001b[39;49m]), axis\u001b[39m=\u001b[39m\u001b[39m1\u001b[39m)\n\u001b[1;32m     56\u001b[0m \u001b[39m# Convert the resulting Series to a list\u001b[39;00m\n\u001b[1;32m     57\u001b[0m \u001b[39mreturn\u001b[39;00m pois_list\u001b[39m.\u001b[39mto_list()\n",
      "Cell \u001b[0;32mIn[6], line 3\u001b[0m, in \u001b[0;36mget_poi\u001b[0;34m(latitude, longitude)\u001b[0m\n\u001b[1;32m      1\u001b[0m \u001b[39mdef\u001b[39;00m \u001b[39mget_poi\u001b[39m(latitude, longitude):\n\u001b[1;32m      2\u001b[0m     \u001b[39m#\"fsq3LGAVIJ8SLXc5OyrhhPUbAuL/pYlxRfwNpdNK1PaWI/A=\"\u001b[39;00m\n\u001b[0;32m----> 3\u001b[0m     api_key \u001b[39m=\u001b[39m os\u001b[39m.\u001b[39;49menviron[\u001b[39m\"\u001b[39;49m\u001b[39mFOURSQUARE_API_KEY\u001b[39;49m\u001b[39m\"\u001b[39;49m]\n\u001b[1;32m      4\u001b[0m     base_url \u001b[39m=\u001b[39m \u001b[39m\"\u001b[39m\u001b[39mhttps://api.foursquare.com/v3/places/search?\u001b[39m\u001b[39m\"\u001b[39m\n\u001b[1;32m      5\u001b[0m     radius \u001b[39m=\u001b[39m \u001b[39m1000\u001b[39m\n",
      "File \u001b[0;32m/opt/homebrew/Caskroom/miniforge/base/lib/python3.10/os.py:680\u001b[0m, in \u001b[0;36m_Environ.__getitem__\u001b[0;34m(self, key)\u001b[0m\n\u001b[1;32m    677\u001b[0m     value \u001b[39m=\u001b[39m \u001b[39mself\u001b[39m\u001b[39m.\u001b[39m_data[\u001b[39mself\u001b[39m\u001b[39m.\u001b[39mencodekey(key)]\n\u001b[1;32m    678\u001b[0m \u001b[39mexcept\u001b[39;00m \u001b[39mKeyError\u001b[39;00m:\n\u001b[1;32m    679\u001b[0m     \u001b[39m# raise KeyError with the original key value\u001b[39;00m\n\u001b[0;32m--> 680\u001b[0m     \u001b[39mraise\u001b[39;00m \u001b[39mKeyError\u001b[39;00m(key) \u001b[39mfrom\u001b[39;00m \u001b[39mNone\u001b[39;00m\n\u001b[1;32m    681\u001b[0m \u001b[39mreturn\u001b[39;00m \u001b[39mself\u001b[39m\u001b[39m.\u001b[39mdecodevalue(value)\n",
      "\u001b[0;31mKeyError\u001b[0m: 'FOURSQUARE_API_KEY'"
     ]
    }
   ],
   "source": [
    "#return the json data in list form\n",
    "poi_data = get_poi_data(bike_stations_df)"
   ]
  },
  {
   "cell_type": "markdown",
   "metadata": {},
   "source": [
    "Parse through the response to get the POI (such as restaurants, bars, etc) details you want (ratings, name, location, etc)"
   ]
  },
  {
   "cell_type": "code",
   "execution_count": 4,
   "metadata": {},
   "outputs": [
    {
     "ename": "NameError",
     "evalue": "name 'poi_data' is not defined",
     "output_type": "error",
     "traceback": [
      "\u001b[0;31m---------------------------------------------------------------------------\u001b[0m",
      "\u001b[0;31mNameError\u001b[0m                                 Traceback (most recent call last)",
      "Cell \u001b[0;32mIn[4], line 3\u001b[0m\n\u001b[1;32m      1\u001b[0m \u001b[39m#generate the first list of data in the json string\u001b[39;00m\n\u001b[0;32m----> 3\u001b[0m result \u001b[39m=\u001b[39m poi_data[\u001b[39m2\u001b[39m][\u001b[39m'\u001b[39m\u001b[39mresults\u001b[39m\u001b[39m'\u001b[39m][\u001b[39m0\u001b[39m]\n\u001b[1;32m      4\u001b[0m \u001b[39mprint\u001b[39m(result)\n\u001b[1;32m      6\u001b[0m \u001b[39m#parse the information stored in result\u001b[39;00m\n",
      "\u001b[0;31mNameError\u001b[0m: name 'poi_data' is not defined"
     ]
    }
   ],
   "source": [
    "#generate the first list of data in the json string\n",
    "\n",
    "result = poi_data[2]['results'][0]\n",
    "print(result)\n",
    "\n",
    "#parse the information stored in result\n",
    "id = result.get('categories', {}).get('id', None)\n",
    "name = result.get('name', None)\n",
    "address = result.get('location', {}).get('formatted_address', None)\n",
    "latitude = result.get('geocodes', {}).get('main', {}).get('latitude', None)\n",
    "longitude = result.get('geocodes', {}).get('main', {}).get('longitude', None)\n",
    "hours = result.get('hours', {}).get('regular', None)\n",
    "tel = result.get('tel', None)\n",
    "website = result.get('website', None)\n",
    "rating = result.get('rating', None)\n",
    "store_id = result.get('store_id', None)\n",
    "\n",
    "#print the parsed info to ensure correctness\n",
    "print(f'ID: {id}\\nName: {name}\\nLocation: {address}\\nTelephone: {tel}\\nRating: {rating}\\nHours: {hours}')\n",
    "\n"
   ]
  },
  {
   "cell_type": "markdown",
   "metadata": {},
   "source": [
    "Put your parsed results into a DataFrame"
   ]
  },
  {
   "cell_type": "code",
   "execution_count": 56,
   "metadata": {},
   "outputs": [
    {
     "name": "stdout",
     "output_type": "stream",
     "text": [
      "Length of id: 1\n",
      "Length of name: 1\n",
      "Length of address: 1\n",
      "Length of latitude: 1\n",
      "Length of longitude: 1\n",
      "Length of hours: 1\n",
      "Length of tel: 1\n",
      "Length of website: 1\n",
      "Length of rating: 1\n",
      "Length of store_id: 1\n"
     ]
    }
   ],
   "source": [
    "#create the database\n",
    "data_list = {\n",
    "    'id': [],\n",
    "    'name': [],\n",
    "    'address': [],\n",
    "    'latitude': [],\n",
    "    'longitude': [],\n",
    "    'hours': [],\n",
    "    'tel': [],\n",
    "    'website': [],\n",
    "    'rating': [],\n",
    "    'store_id': []\n",
    "}\n",
    "\n",
    "result = poi_data[2]['results'][0]\n",
    "data_list['id'].append(result.get('catageories', {}).get('id', None))\n",
    "data_list['name'].append(result.get('name', None))\n",
    "data_list['address'].append(result.get('location', {}).get('formatted_address', None))\n",
    "data_list['latitude'].append(result.get('geocodes', {}).get('main', {}).get('latitude', None))\n",
    "data_list['longitude'].append(result.get('geocodes', {}).get('main', {}).get('latitude', None))\n",
    "data_list['hours'].append(result.get('hours', {}).get('regular', None))\n",
    "data_list['tel'].append(result.get('tel', None))\n",
    "data_list['website'].append(result.get('website', None))\n",
    "data_list['rating'].append(result.get('rating', None))\n",
    "data_list['store_id'].append(result.get('store_id', None))\n",
    "\n",
    "# Print the lengths of each array\n",
    "for key, value in data_list.items():\n",
    "    print(f\"Length of {key}: {len(value)}\")\n",
    "\n",
    "results_df = pd.DataFrame(data_list)"
   ]
  },
  {
   "cell_type": "code",
   "execution_count": 66,
   "metadata": {},
   "outputs": [
    {
     "data": {
      "text/plain": [
       "True"
      ]
     },
     "execution_count": 66,
     "metadata": {},
     "output_type": "execute_result"
    }
   ],
   "source": []
  },
  {
   "cell_type": "code",
   "execution_count": 59,
   "metadata": {},
   "outputs": [
    {
     "data": {
      "text/html": [
       "<div>\n",
       "<style scoped>\n",
       "    .dataframe tbody tr th:only-of-type {\n",
       "        vertical-align: middle;\n",
       "    }\n",
       "\n",
       "    .dataframe tbody tr th {\n",
       "        vertical-align: top;\n",
       "    }\n",
       "\n",
       "    .dataframe thead th {\n",
       "        text-align: right;\n",
       "    }\n",
       "</style>\n",
       "<table border=\"1\" class=\"dataframe\">\n",
       "  <thead>\n",
       "    <tr style=\"text-align: right;\">\n",
       "      <th></th>\n",
       "      <th>id</th>\n",
       "      <th>name</th>\n",
       "      <th>address</th>\n",
       "      <th>latitude</th>\n",
       "      <th>longitude</th>\n",
       "      <th>hours</th>\n",
       "      <th>tel</th>\n",
       "      <th>website</th>\n",
       "      <th>rating</th>\n",
       "      <th>store_id</th>\n",
       "    </tr>\n",
       "  </thead>\n",
       "  <tbody>\n",
       "    <tr>\n",
       "      <th>0</th>\n",
       "      <td>None</td>\n",
       "      <td>Postkontoret</td>\n",
       "      <td>Hagegata 27, 0653 Oslo</td>\n",
       "      <td>59.914183</td>\n",
       "      <td>59.914183</td>\n",
       "      <td>[{'close': '0010', 'day': 1, 'open': '0000'}, ...</td>\n",
       "      <td>458 34 885</td>\n",
       "      <td>http://pkontoret.no</td>\n",
       "      <td>8.7</td>\n",
       "      <td>None</td>\n",
       "    </tr>\n",
       "  </tbody>\n",
       "</table>\n",
       "</div>"
      ],
      "text/plain": [
       "     id          name                 address   latitude  longitude  \\\n",
       "0  None  Postkontoret  Hagegata 27, 0653 Oslo  59.914183  59.914183   \n",
       "\n",
       "                                               hours         tel  \\\n",
       "0  [{'close': '0010', 'day': 1, 'open': '0000'}, ...  458 34 885   \n",
       "\n",
       "               website  rating store_id  \n",
       "0  http://pkontoret.no     8.7     None  "
      ]
     },
     "execution_count": 59,
     "metadata": {},
     "output_type": "execute_result"
    }
   ],
   "source": [
    "results_df.head(20)"
   ]
  },
  {
   "cell_type": "markdown",
   "metadata": {},
   "source": [
    "# Yelp"
   ]
  },
  {
   "cell_type": "markdown",
   "metadata": {},
   "source": [
    "Send a request to Yelp with a small radius (1000m) for all the bike stations in your city of choice. "
   ]
  },
  {
   "cell_type": "code",
   "execution_count": 115,
   "metadata": {},
   "outputs": [],
   "source": [
    "def yelp_poi(longitude, latitude):\n",
    "    base_url = \"https://api.yelp.com/v3/businesses/search?\"\n",
    "    radius = 1000\n",
    "    category = 'restaurant'\n",
    "    url = f\"{base_url}latitude={latitude}&longitude={longitude}&radius={radius}&categories={category}\"\n",
    "\n",
    "    headers = {\"accept\": \"application/json\"}\n",
    "\n",
    "    # a session object allows certain parameters and settings to persist\n",
    "    # across multiple requests made with that session\n",
    "    with requests.Session() as session:\n",
    "        #ensure the request is valid\n",
    "        try:\n",
    "            response = session.get(url, headers=headers)\n",
    "            response.raise_for_status()\n",
    "            data = response.json()\n",
    "            return data\n",
    "        except requests.exceptions.RequestException as e:\n",
    "            print(f\"Request Error: {e}\")\n",
    "            return None\n",
    "        except ValueError as e:\n",
    "            print(f\"Error parsing response JSON: {e}\")\n",
    "            return None\n",
    "\n",
    "def yelp_poi_data(data_frame):\n",
    "    locations = data_frame[['latitude', 'longitude']]\n",
    "    num_poi = locations.apply(lambda row: get_poi(row['latitude'], row['longitude']), axis=1)\n",
    "    return num_poi.to_list()\n",
    "\n"
   ]
  },
  {
   "cell_type": "markdown",
   "metadata": {},
   "source": [
    "Parse through the response to get the POI (such as restaurants, bars, etc) details you want (ratings, name, location, etc)"
   ]
  },
  {
   "cell_type": "code",
   "execution_count": 116,
   "metadata": {},
   "outputs": [],
   "source": [
    "poi_data_yelp = yelp_poi_data(bike_stations_df)"
   ]
  },
  {
   "cell_type": "code",
   "execution_count": 127,
   "metadata": {},
   "outputs": [
    {
     "data": {
      "text/plain": [
       "'57f53ed7498e23279caaed8e'"
      ]
     },
     "execution_count": 127,
     "metadata": {},
     "output_type": "execute_result"
    }
   ],
   "source": [
    "business_id = poi_data_yelp[0]['results'][0].get('fsq_id')\n",
    "business_id"
   ]
  },
  {
   "cell_type": "markdown",
   "metadata": {},
   "source": [
    "Put your parsed results into a DataFrame"
   ]
  },
  {
   "cell_type": "code",
   "execution_count": null,
   "metadata": {},
   "outputs": [],
   "source": [
    "#insert data frame"
   ]
  },
  {
   "cell_type": "markdown",
   "metadata": {},
   "source": [
    "# Comparing Results"
   ]
  },
  {
   "cell_type": "markdown",
   "metadata": {},
   "source": [
    "Which API provided you with more complete data? Provide an explanation. "
   ]
  },
  {
   "cell_type": "markdown",
   "metadata": {},
   "source": []
  },
  {
   "cell_type": "markdown",
   "metadata": {},
   "source": [
    "Get the top 10 restaurants according to their rating"
   ]
  },
  {
   "cell_type": "code",
   "execution_count": null,
   "metadata": {},
   "outputs": [],
   "source": []
  }
 ],
 "metadata": {
  "kernelspec": {
   "display_name": "Python 3 (ipykernel)",
   "language": "python",
   "name": "python3"
  },
  "language_info": {
   "codemirror_mode": {
    "name": "ipython",
    "version": 3
   },
   "file_extension": ".py",
   "mimetype": "text/x-python",
   "name": "python",
   "nbconvert_exporter": "python",
   "pygments_lexer": "ipython3",
   "version": "3.10.10"
  }
 },
 "nbformat": 4,
 "nbformat_minor": 4
}
